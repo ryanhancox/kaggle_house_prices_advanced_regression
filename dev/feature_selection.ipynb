{
 "cells": [
  {
   "attachments": {},
   "cell_type": "markdown",
   "metadata": {},
   "source": [
    "# Feature Selection"
   ]
  }
 ],
 "metadata": {
  "kernelspec": {
   "display_name": "mle06_training",
   "language": "python",
   "name": "python3"
  },
  "language_info": {
   "name": "python",
   "version": "3.10.7"
  },
  "orig_nbformat": 4,
  "vscode": {
   "interpreter": {
    "hash": "d9a958ae20cef41171190dad9680fd956436bd5c71ddb365bf564717bb4e8557"
   }
  }
 },
 "nbformat": 4,
 "nbformat_minor": 2
}
